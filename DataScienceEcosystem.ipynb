{
 "cells": [
  {
   "cell_type": "markdown",
   "id": "6d4117b5-595e-497a-82f5-810df10e092d",
   "metadata": {},
   "source": [
    "# Data Science Tools and Ecosystem\n"
   ]
  },
  {
   "cell_type": "markdown",
   "id": "cc8dccdb-3ee9-4564-98b7-c7d1f08211d7",
   "metadata": {},
   "source": [
    "In this notebook, Data Science Tools and Ecosystem are summarized"
   ]
  },
  {
   "cell_type": "markdown",
   "id": "be5f066a-3313-45e4-9048-b82629ed8276",
   "metadata": {},
   "source": [
    "Some of the popular languages that Data Scientists use are:"
   ]
  },
  {
   "cell_type": "markdown",
   "id": "a7eec7ba-d5a0-48c0-ba83-ce5ba25f6dd7",
   "metadata": {},
   "source": [
    "1. Python"
   ]
  },
  {
   "cell_type": "markdown",
   "id": "7e35772d-eb0c-48d8-9e1b-c639cc2ca781",
   "metadata": {},
   "source": [
    "2. R statistical language"
   ]
  },
  {
   "cell_type": "markdown",
   "id": "d705af3c-ef5f-4a32-89ce-a3759e95904a",
   "metadata": {},
   "source": [
    "3. SQL"
   ]
  },
  {
   "cell_type": "markdown",
   "id": "d261880c-f0a9-4e19-8192-41491e7da9ea",
   "metadata": {},
   "source": [
    "4. JAVA"
   ]
  },
  {
   "cell_type": "markdown",
   "id": "b86c99bc-7247-4cdc-b23c-527c40d6ecc7",
   "metadata": {},
   "source": [
    "Some of the commonly used libraries used by Data Scientists include:"
   ]
  },
  {
   "cell_type": "markdown",
   "id": "4d0a1814-10c7-4d0c-8e31-56df188f5cdb",
   "metadata": {},
   "source": [
    "1. NumPy"
   ]
  },
  {
   "cell_type": "markdown",
   "id": "d98e7602-8cee-4d74-a413-5bedacd6215b",
   "metadata": {},
   "source": [
    "2. Matplotlib"
   ]
  },
  {
   "cell_type": "markdown",
   "id": "e97ced04-0366-40a3-8b20-168127f306b3",
   "metadata": {},
   "source": [
    "3. Pandas"
   ]
  },
  {
   "cell_type": "markdown",
   "id": "89f179c8-831a-42a9-99f8-6fb85e6074aa",
   "metadata": {},
   "source": [
    "4. PyTorch"
   ]
  },
  {
   "cell_type": "markdown",
   "id": "93e0e1a0-dee4-4ca5-acdb-27bc3dd55397",
   "metadata": {},
   "source": [
    "| Data Science Tools|\r\n",
    "| ------------------| \r\n",
    "| Git|\r\n",
    "|Node.js|\r\n",
    "|TensorFlow|\r\n"
   ]
  },
  {
   "cell_type": "markdown",
   "id": "eef74a93-a00e-4424-9133-24002ec60dd8",
   "metadata": {},
   "source": [
    "### Below are a few examples of evaluating arithmetic expressions in Python"
   ]
  },
  {
   "cell_type": "code",
   "execution_count": 18,
   "id": "afe22350-d900-4112-9653-ac8878d60ebd",
   "metadata": {},
   "outputs": [],
   "source": [
    "# This a simple arithmetic expression to mutiply then add integers"
   ]
  },
  {
   "cell_type": "code",
   "execution_count": 20,
   "id": "8f7fde66-d010-492d-8e88-254f000f139b",
   "metadata": {},
   "outputs": [
    {
     "data": {
      "text/plain": [
       "17"
      ]
     },
     "execution_count": 20,
     "metadata": {},
     "output_type": "execute_result"
    }
   ],
   "source": [
    "(3*4)+5"
   ]
  },
  {
   "cell_type": "code",
   "execution_count": 22,
   "id": "895421fb-f153-4de0-9bfd-aa20ba67906b",
   "metadata": {},
   "outputs": [],
   "source": [
    "# This will convert 200 minutes to hours by diving by 60"
   ]
  },
  {
   "cell_type": "code",
   "execution_count": 24,
   "id": "4c7b7d52-7d45-4522-b618-5a53dfd24f3c",
   "metadata": {},
   "outputs": [
    {
     "name": "stdout",
     "output_type": "stream",
     "text": [
      "200 minutes =  3.3333333333333335  hours\n"
     ]
    }
   ],
   "source": [
    "print('200 minutes = ',200/60,' hours')"
   ]
  },
  {
   "cell_type": "markdown",
   "id": "f47767ee-e856-4fbe-ab24-d4ca6ebd9424",
   "metadata": {},
   "source": [
    "**Objectives:**"
   ]
  },
  {
   "cell_type": "markdown",
   "id": "d1f4b8d0-6143-4f69-9c85-d6d7fedc33f6",
   "metadata": {},
   "source": [
    "- Python"
   ]
  },
  {
   "cell_type": "markdown",
   "id": "ebff88a1-c440-4412-bf4a-b1c2cd3289e5",
   "metadata": {},
   "source": [
    "- SQL"
   ]
  },
  {
   "cell_type": "markdown",
   "id": "fae5a0b2-d1b5-4cf7-8efa-de3b60e6ed95",
   "metadata": {},
   "source": [
    "- Julia"
   ]
  },
  {
   "cell_type": "markdown",
   "id": "952b5303-fd04-4c06-ae8d-84d8036fc5a1",
   "metadata": {},
   "source": [
    "- SQL"
   ]
  },
  {
   "cell_type": "markdown",
   "id": "f662937e-52d5-4f4e-aba8-a8058b5a4fb0",
   "metadata": {},
   "source": [
    "- JavaScript"
   ]
  },
  {
   "cell_type": "markdown",
   "id": "a0b8c208-f92f-4523-8591-ae17e8543d58",
   "metadata": {},
   "source": [
    "## Author"
   ]
  },
  {
   "cell_type": "markdown",
   "id": "097bb1f5-9092-44bb-84d9-982945b53f9e",
   "metadata": {},
   "source": [
    "Nadir Yousif"
   ]
  },
  {
   "cell_type": "code",
   "execution_count": null,
   "id": "baf27b50-b438-40bc-a26a-5be636d09eb2",
   "metadata": {},
   "outputs": [],
   "source": []
  }
 ],
 "metadata": {
  "kernelspec": {
   "display_name": "Python 3 (ipykernel)",
   "language": "python",
   "name": "python3"
  },
  "language_info": {
   "codemirror_mode": {
    "name": "ipython",
    "version": 3
   },
   "file_extension": ".py",
   "mimetype": "text/x-python",
   "name": "python",
   "nbconvert_exporter": "python",
   "pygments_lexer": "ipython3",
   "version": "3.11.7"
  }
 },
 "nbformat": 4,
 "nbformat_minor": 5
}
